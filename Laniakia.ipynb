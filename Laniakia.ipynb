{
 "cells": [
  {
   "cell_type": "code",
   "execution_count": 1,
   "id": "solved-venue",
   "metadata": {},
   "outputs": [],
   "source": [
    "import numpy as np\n",
    "import matplotlib.pyplot as plt\n",
    "from mpl_toolkits.mplot3d import Axes3D\n",
    "from mpl_toolkits.mplot3d.art3d import Poly3DCollection\n",
    "%matplotlib notebook\n",
    "import pandas as pd\n",
    "import astropy\n",
    "from astropy import cosmology\n",
    "from astropy.cosmology import FlatLambdaCDM\n",
    "import astropy.units as u\n",
    "from astropy.coordinates import SkyCoord\n",
    "cosmo = FlatLambdaCDM(H0=100 * u.km / u.s / u.Mpc, Om0=0.3)\n",
    "import pvhub\n",
    "import pycf3\n",
    "c = 299792.458"
   ]
  },
  {
   "cell_type": "code",
   "execution_count": 2,
   "id": "precious-finnish",
   "metadata": {},
   "outputs": [
    {
     "name": "stdout",
     "output_type": "stream",
     "text": [
      "3.8.3 (default, May 19 2020, 13:54:14) \n",
      "[Clang 10.0.0 ]\n"
     ]
    }
   ],
   "source": [
    "import sys\n",
    "print (sys.version)"
   ]
  },
  {
   "cell_type": "code",
   "execution_count": 3,
   "id": "accepting-dietary",
   "metadata": {},
   "outputs": [
    {
     "data": {
      "text/html": [
       "<div>\n",
       "<style scoped>\n",
       "    .dataframe tbody tr th:only-of-type {\n",
       "        vertical-align: middle;\n",
       "    }\n",
       "\n",
       "    .dataframe tbody tr th {\n",
       "        vertical-align: top;\n",
       "    }\n",
       "\n",
       "    .dataframe thead th {\n",
       "        text-align: right;\n",
       "    }\n",
       "</style>\n",
       "<table border=\"1\" class=\"dataframe\">\n",
       "  <thead>\n",
       "    <tr style=\"text-align: right;\">\n",
       "      <th></th>\n",
       "      <th>sgx</th>\n",
       "      <th>sgy</th>\n",
       "      <th>sgz</th>\n",
       "    </tr>\n",
       "  </thead>\n",
       "  <tbody>\n",
       "    <tr>\n",
       "      <th>0</th>\n",
       "      <td>-1882.60</td>\n",
       "      <td>501.715</td>\n",
       "      <td>-6086.52</td>\n",
       "    </tr>\n",
       "    <tr>\n",
       "      <th>1</th>\n",
       "      <td>-1757.11</td>\n",
       "      <td>501.715</td>\n",
       "      <td>-6086.52</td>\n",
       "    </tr>\n",
       "    <tr>\n",
       "      <th>2</th>\n",
       "      <td>-1631.62</td>\n",
       "      <td>501.715</td>\n",
       "      <td>-6086.52</td>\n",
       "    </tr>\n",
       "    <tr>\n",
       "      <th>3</th>\n",
       "      <td>-1506.13</td>\n",
       "      <td>501.715</td>\n",
       "      <td>-6086.52</td>\n",
       "    </tr>\n",
       "    <tr>\n",
       "      <th>4</th>\n",
       "      <td>-1380.64</td>\n",
       "      <td>501.715</td>\n",
       "      <td>-6086.52</td>\n",
       "    </tr>\n",
       "    <tr>\n",
       "      <th>...</th>\n",
       "      <td>...</td>\n",
       "      <td>...</td>\n",
       "      <td>...</td>\n",
       "    </tr>\n",
       "    <tr>\n",
       "      <th>75001</th>\n",
       "      <td>-2259.07</td>\n",
       "      <td>-2635.540</td>\n",
       "      <td>14117.40</td>\n",
       "    </tr>\n",
       "    <tr>\n",
       "      <th>75002</th>\n",
       "      <td>-2133.58</td>\n",
       "      <td>-2635.540</td>\n",
       "      <td>14117.40</td>\n",
       "    </tr>\n",
       "    <tr>\n",
       "      <th>75003</th>\n",
       "      <td>-2008.09</td>\n",
       "      <td>-2635.540</td>\n",
       "      <td>14117.40</td>\n",
       "    </tr>\n",
       "    <tr>\n",
       "      <th>75004</th>\n",
       "      <td>-1882.60</td>\n",
       "      <td>-2635.540</td>\n",
       "      <td>14117.40</td>\n",
       "    </tr>\n",
       "    <tr>\n",
       "      <th>75005</th>\n",
       "      <td>-1757.11</td>\n",
       "      <td>-2635.540</td>\n",
       "      <td>14117.40</td>\n",
       "    </tr>\n",
       "  </tbody>\n",
       "</table>\n",
       "<p>75006 rows × 3 columns</p>\n",
       "</div>"
      ],
      "text/plain": [
       "           sgx       sgy       sgz\n",
       "0     -1882.60   501.715  -6086.52\n",
       "1     -1757.11   501.715  -6086.52\n",
       "2     -1631.62   501.715  -6086.52\n",
       "3     -1506.13   501.715  -6086.52\n",
       "4     -1380.64   501.715  -6086.52\n",
       "...        ...       ...       ...\n",
       "75001 -2259.07 -2635.540  14117.40\n",
       "75002 -2133.58 -2635.540  14117.40\n",
       "75003 -2008.09 -2635.540  14117.40\n",
       "75004 -1882.60 -2635.540  14117.40\n",
       "75005 -1757.11 -2635.540  14117.40\n",
       "\n",
       "[75006 rows x 3 columns]"
      ]
     },
     "execution_count": 3,
     "metadata": {},
     "output_type": "execute_result"
    }
   ],
   "source": [
    "Lania = pd.read_csv(\"Laniakia_positions.csv\")\n",
    "Lania"
   ]
  },
  {
   "cell_type": "code",
   "execution_count": 4,
   "id": "thermal-karma",
   "metadata": {},
   "outputs": [
    {
     "data": {
      "text/html": [
       "<div>\n",
       "<style scoped>\n",
       "    .dataframe tbody tr th:only-of-type {\n",
       "        vertical-align: middle;\n",
       "    }\n",
       "\n",
       "    .dataframe tbody tr th {\n",
       "        vertical-align: top;\n",
       "    }\n",
       "\n",
       "    .dataframe thead th {\n",
       "        text-align: right;\n",
       "    }\n",
       "</style>\n",
       "<table border=\"1\" class=\"dataframe\">\n",
       "  <thead>\n",
       "    <tr style=\"text-align: right;\">\n",
       "      <th></th>\n",
       "      <th>i</th>\n",
       "      <th>j</th>\n",
       "      <th>k</th>\n",
       "    </tr>\n",
       "  </thead>\n",
       "  <tbody>\n",
       "    <tr>\n",
       "      <th>0</th>\n",
       "      <td>154</td>\n",
       "      <td>130</td>\n",
       "      <td>1</td>\n",
       "    </tr>\n",
       "    <tr>\n",
       "      <th>1</th>\n",
       "      <td>130</td>\n",
       "      <td>131</td>\n",
       "      <td>2</td>\n",
       "    </tr>\n",
       "    <tr>\n",
       "      <th>2</th>\n",
       "      <td>130</td>\n",
       "      <td>2</td>\n",
       "      <td>1</td>\n",
       "    </tr>\n",
       "    <tr>\n",
       "      <th>3</th>\n",
       "      <td>131</td>\n",
       "      <td>132</td>\n",
       "      <td>3</td>\n",
       "    </tr>\n",
       "    <tr>\n",
       "      <th>4</th>\n",
       "      <td>131</td>\n",
       "      <td>3</td>\n",
       "      <td>2</td>\n",
       "    </tr>\n",
       "    <tr>\n",
       "      <th>...</th>\n",
       "      <td>...</td>\n",
       "      <td>...</td>\n",
       "      <td>...</td>\n",
       "    </tr>\n",
       "    <tr>\n",
       "      <th>149999</th>\n",
       "      <td>74928</td>\n",
       "      <td>75005</td>\n",
       "      <td>75004</td>\n",
       "    </tr>\n",
       "    <tr>\n",
       "      <th>150000</th>\n",
       "      <td>74928</td>\n",
       "      <td>75004</td>\n",
       "      <td>74927</td>\n",
       "    </tr>\n",
       "    <tr>\n",
       "      <th>150001</th>\n",
       "      <td>74929</td>\n",
       "      <td>75006</td>\n",
       "      <td>75005</td>\n",
       "    </tr>\n",
       "    <tr>\n",
       "      <th>150002</th>\n",
       "      <td>74929</td>\n",
       "      <td>75005</td>\n",
       "      <td>74928</td>\n",
       "    </tr>\n",
       "    <tr>\n",
       "      <th>150003</th>\n",
       "      <td>75006</td>\n",
       "      <td>74929</td>\n",
       "      <td>74937</td>\n",
       "    </tr>\n",
       "  </tbody>\n",
       "</table>\n",
       "<p>150004 rows × 3 columns</p>\n",
       "</div>"
      ],
      "text/plain": [
       "            i      j      k\n",
       "0         154    130      1\n",
       "1         130    131      2\n",
       "2         130      2      1\n",
       "3         131    132      3\n",
       "4         131      3      2\n",
       "...       ...    ...    ...\n",
       "149999  74928  75005  75004\n",
       "150000  74928  75004  74927\n",
       "150001  74929  75006  75005\n",
       "150002  74929  75005  74928\n",
       "150003  75006  74929  74937\n",
       "\n",
       "[150004 rows x 3 columns]"
      ]
     },
     "execution_count": 4,
     "metadata": {},
     "output_type": "execute_result"
    }
   ],
   "source": [
    "ind = pd.read_csv(\"Laniakia_index.csv\")\n",
    "#ind = ind[:50000]\n",
    "ind"
   ]
  },
  {
   "cell_type": "code",
   "execution_count": 5,
   "id": "intensive-termination",
   "metadata": {},
   "outputs": [
    {
     "name": "stdout",
     "output_type": "stream",
     "text": [
      "0       -1882.60\n",
      "1       -1757.11\n",
      "2       -1631.62\n",
      "3       -1506.13\n",
      "4       -1380.64\n",
      "          ...   \n",
      "75001   -2259.07\n",
      "75002   -2133.58\n",
      "75003   -2008.09\n",
      "75004   -1882.60\n",
      "75005   -1757.11\n",
      "Name: sgx, Length: 75006, dtype: float64\n"
     ]
    }
   ],
   "source": [
    "print (Lania.sgx)"
   ]
  },
  {
   "cell_type": "code",
   "execution_count": 6,
   "id": "established-tackle",
   "metadata": {},
   "outputs": [
    {
     "name": "stdout",
     "output_type": "stream",
     "text": [
      "0           154\n",
      "1           130\n",
      "2           130\n",
      "3           131\n",
      "4           131\n",
      "          ...  \n",
      "149999    74928\n",
      "150000    74928\n",
      "150001    74929\n",
      "150002    74929\n",
      "150003    75006\n",
      "Name: i, Length: 150004, dtype: int64\n"
     ]
    }
   ],
   "source": [
    "print (ind.i)"
   ]
  },
  {
   "cell_type": "code",
   "execution_count": null,
   "id": "virtual-asset",
   "metadata": {},
   "outputs": [],
   "source": [
    "x = []; y =[]; z = []\n",
    "for i in ind.i:\n",
    "    #print (Lania.sgx[i-1])\n",
    "    x.append(Lania.sgx[i-1])\n",
    "for j in ind.j:\n",
    "    y.append(Lania.sgy[j-1])\n",
    "for k in ind.k:\n",
    "    z.append(Lania.sgz[k-1])\n",
    "    "
   ]
  },
  {
   "cell_type": "code",
   "execution_count": null,
   "id": "supreme-homework",
   "metadata": {},
   "outputs": [],
   "source": [
    "fig = plt.figure()\n",
    "ax = fig.add_subplot(projection='3d')\n",
    "ax.scatter(Lania.sgx, Lania.sgy, Lania.sgz,s=0.01)\n",
    "\n",
    "# Set an equal aspect ratio\n",
    "#ax.set_aspect('equal')\n",
    "\n",
    "plt.show()"
   ]
  },
  {
   "cell_type": "code",
   "execution_count": null,
   "id": "consistent-signature",
   "metadata": {},
   "outputs": [],
   "source": [
    "fig = plt.figure()\n",
    "ax = fig.add_subplot(projection='3d')\n",
    "ax.scatter(x, y, z,s=0.01)\n",
    "\n",
    "# Set an equal aspect ratio\n",
    "#ax.set_aspect('equal')\n",
    "\n",
    "plt.show()"
   ]
  },
  {
   "cell_type": "code",
   "execution_count": null,
   "id": "alternative-interview",
   "metadata": {},
   "outputs": [],
   "source": [
    "# fig = plt.figure()\n",
    "# ax = fig.add_subplot(projection='3d')\n",
    "# # x = [Lania.sgx[ind.i]]\n",
    "# # y = [Lania.sgy[129],Lania.sgy[130],Lania.sgy[1],Lania.sgy[131]]\n",
    "# # z = [Lania.sgz[0],Lania.sgz[1],Lania.sgz[0],Lania.sgz[2]]\n",
    "# ax.plot(x, y, z)\n",
    "\n",
    "# # Set an equal aspect ratio\n",
    "# #ax.set_aspect('equal')\n",
    "\n",
    "# plt.show()"
   ]
  },
  {
   "cell_type": "code",
   "execution_count": null,
   "id": "handy-beach",
   "metadata": {},
   "outputs": [],
   "source": [
    "# fig = plt.figure()\n",
    "# ax = Axes3D(fig)#, auto_add_to_figure=False)\n",
    "# fig.add_axes(ax)\n",
    "# ax.set_xlim(-10000,5000)\n",
    "# ax.set_ylim(-7500,5000)\n",
    "# ax.set_zlim(-5000,10000)\n",
    "# # x = [Lania.sgx[153],Lania.sgx[129],Lania.sgx[129],Lania.sgx[130]]\n",
    "# # y = [Lania.sgy[129],Lania.sgy[130],Lania.sgy[1],Lania.sgy[131]]\n",
    "# # z = [Lania.sgz[0],Lania.sgz[1],Lania.sgz[0],Lania.sgz[2]]\n",
    "# verts = [list(zip(x,y,z))]\n",
    "# ax.add_collection3d(Poly3DCollection(verts))\n",
    "# plt.show()"
   ]
  },
  {
   "cell_type": "code",
   "execution_count": null,
   "id": "democratic-separate",
   "metadata": {},
   "outputs": [],
   "source": [
    "lan_super = SkyCoord(sgx=Lania.sgx,sgy=Lania.sgy,sgz=Lania.sgz,frame='supergalactic',representation_type = 'cartesian', unit='km/s')\n",
    "lan_super"
   ]
  },
  {
   "cell_type": "code",
   "execution_count": null,
   "id": "downtown-persian",
   "metadata": {},
   "outputs": [],
   "source": [
    "lan_icrs = lan_super.transform_to('icrs')\n",
    "lan_icrs\n"
   ]
  },
  {
   "cell_type": "code",
   "execution_count": null,
   "id": "requested-ridge",
   "metadata": {},
   "outputs": [],
   "source": [
    "# #test\n",
    "# ccc = SkyCoord(lan_icrs.ra, lan_icrs.dec, frame='icrs', unit='deg')\n",
    "# x001 = ccc.transform_to('galactic')\n",
    "# c00 = SkyCoord(l=x001.l.value*u.degree, b=x001.b.value*u.degree, distance=lan_icrs.distance, frame='galactic')\n",
    "# c01 = c00.transform_to('supergalactic')\n",
    "# c01.representation_type = 'cartesian'\n",
    "# c01"
   ]
  },
  {
   "cell_type": "code",
   "execution_count": null,
   "id": "alleged-programmer",
   "metadata": {},
   "outputs": [],
   "source": [
    "lan_gal = lan_super.transform_to('galactic')\n",
    "lan_gal"
   ]
  },
  {
   "cell_type": "code",
   "execution_count": null,
   "id": "imposed-marketplace",
   "metadata": {},
   "outputs": [],
   "source": [
    "lani_galactic = pd.DataFrame(np.column_stack((lan_gal.l.value,lan_gal.b.value,lan_gal.distance.value)),columns=['l','b','cz'])\n",
    "#lani_galactic\n",
    "lani_galactic.to_csv('lan_galactic.csv',sep=' ',index=False,header=True)"
   ]
  },
  {
   "cell_type": "code",
   "execution_count": null,
   "id": "funded-theta",
   "metadata": {},
   "outputs": [],
   "source": [
    "lani_icrs = pd.DataFrame(np.column_stack((lan_icrs.ra.value,lan_icrs.dec.value,lan_icrs.distance.value/c)),columns=['RA','DEC','zcmb'])\n",
    "lani_icrs\n",
    "lani_icrs.to_csv('lan_icrs.csv',index=False,header=True)"
   ]
  },
  {
   "cell_type": "code",
   "execution_count": null,
   "id": "alone-opening",
   "metadata": {},
   "outputs": [],
   "source": [
    "ra = lan_icrs.ra.value\n",
    "dec = lan_icrs.dec.value\n",
    "zcmb = lan_icrs.distance.value/c"
   ]
  },
  {
   "cell_type": "code",
   "execution_count": null,
   "id": "afraid-garbage",
   "metadata": {},
   "outputs": [],
   "source": [
    "pv = pvhub.calculate_pv(ra, dec, zcmb)"
   ]
  },
  {
   "cell_type": "code",
   "execution_count": null,
   "id": "designed-cover",
   "metadata": {},
   "outputs": [],
   "source": [
    "pv"
   ]
  },
  {
   "cell_type": "code",
   "execution_count": null,
   "id": "pharmaceutical-glenn",
   "metadata": {},
   "outputs": [],
   "source": [
    "np.mean(pv)"
   ]
  },
  {
   "cell_type": "code",
   "execution_count": null,
   "id": "suburban-designer",
   "metadata": {},
   "outputs": [],
   "source": [
    "print (len(lan_gal.distance.value))"
   ]
  },
  {
   "cell_type": "code",
   "execution_count": null,
   "id": "weird-technician",
   "metadata": {},
   "outputs": [],
   "source": [
    "cf3 = pycf3.CF3()\n",
    "obs_v = []; obs_dist = []; adj_dist = [];pv_cf3 = []\n",
    "for i in range(len(lan_gal.distance.value)):\n",
    "    result = cf3.calculate_distance(velocity=lan_gal.distance.value[i], glon=lan_gal.l.value[i], glat=lan_gal.b.value[i])\n",
    "    obs_v.append((round(result.observed_velocity_,3)))\n",
    "    obs_dist.append(round(float(result.observed_distance_),3))\n",
    "    adj_dist.append(round(float(result.adjusted_distance_),3))\n",
    "    pv_cf3.append(round(float(result.observed_velocity_) - float(result.observed_distance_)*75.0,3))\n",
    "    #print (i,int(result.observed_velocity_), round(float(result.observed_distance_),3) , round(float(result.adjusted_distance_),3))"
   ]
  },
  {
   "cell_type": "code",
   "execution_count": null,
   "id": "geological-sponsorship",
   "metadata": {},
   "outputs": [],
   "source": [
    "#print (len(lani_galactic),len())"
   ]
  },
  {
   "cell_type": "code",
   "execution_count": null,
   "id": "dated-matter",
   "metadata": {},
   "outputs": [],
   "source": [
    "lani_gal_cf3 = pd.DataFrame(np.column_stack((round(lani_galactic,3),obs_v,obs_dist,adj_dist,pv_cf3)),columns=['l','b','cz','obs_v','obs_dist','adj_dist','pv_cf3'])\n",
    "lani_gal_cf3"
   ]
  },
  {
   "cell_type": "code",
   "execution_count": null,
   "id": "empirical-contrary",
   "metadata": {},
   "outputs": [],
   "source": [
    "lani_gal_cf3.to_csv('lan_gal_cf3.csv',index=False,header=True)"
   ]
  },
  {
   "cell_type": "code",
   "execution_count": null,
   "id": "chronic-sheriff",
   "metadata": {},
   "outputs": [],
   "source": [
    "print (np.mean(pv_cf3))"
   ]
  },
  {
   "cell_type": "code",
   "execution_count": null,
   "id": "settled-minority",
   "metadata": {},
   "outputs": [],
   "source": [
    "fig = plt.figure()\n",
    "ax = fig.add_subplot(projection='3d')\n",
    "ax.scatter(Lania.sgx[:8000], Lania.sgy[:8000], Lania.sgz[:8000],s=0.01)\n",
    "\n",
    "# Set an equal aspect ratio\n",
    "#ax.set_aspect('equal')\n",
    "\n",
    "plt.show()"
   ]
  },
  {
   "cell_type": "code",
   "execution_count": null,
   "id": "median-smart",
   "metadata": {},
   "outputs": [],
   "source": []
  },
  {
   "cell_type": "code",
   "execution_count": null,
   "id": "spectacular-english",
   "metadata": {},
   "outputs": [],
   "source": []
  }
 ],
 "metadata": {
  "kernelspec": {
   "display_name": "Python 3",
   "language": "python",
   "name": "python3"
  },
  "language_info": {
   "codemirror_mode": {
    "name": "ipython",
    "version": 3
   },
   "file_extension": ".py",
   "mimetype": "text/x-python",
   "name": "python",
   "nbconvert_exporter": "python",
   "pygments_lexer": "ipython3",
   "version": "3.8.3"
  }
 },
 "nbformat": 4,
 "nbformat_minor": 5
}
