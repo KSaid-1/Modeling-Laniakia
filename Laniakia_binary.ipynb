{
 "cells": [
  {
   "cell_type": "code",
   "execution_count": 1,
   "id": "adjacent-closing",
   "metadata": {},
   "outputs": [],
   "source": [
    "import numpy as np\n",
    "import pandas as pd\n",
    "from astropy import cosmology\n",
    "from astropy.cosmology import FlatLambdaCDM\n",
    "import astropy.units as u\n",
    "from astropy.coordinates import SkyCoord\n",
    "cosmo = FlatLambdaCDM(H0=100 * u.km / u.s / u.Mpc, Om0=0.3)"
   ]
  },
  {
   "cell_type": "code",
   "execution_count": 2,
   "id": "simple-palestinian",
   "metadata": {},
   "outputs": [
    {
     "data": {
      "text/plain": [
       "(16777216,)"
      ]
     },
     "execution_count": 2,
     "metadata": {},
     "output_type": "execute_result"
    }
   ],
   "source": [
    "#array = np.array([2,8,7]).tofile(\"array.bin\")\n",
    "x01 = np.fromfile(\"boas_lani.bin\",  dtype=np.int16)\n",
    "np.shape(x01)"
   ]
  },
  {
   "cell_type": "code",
   "execution_count": 3,
   "id": "criminal-things",
   "metadata": {},
   "outputs": [
    {
     "data": {
      "text/plain": [
       "array([-1, -1, -1, ...,  0,  0,  0], dtype=int16)"
      ]
     },
     "execution_count": 3,
     "metadata": {},
     "output_type": "execute_result"
    }
   ],
   "source": [
    "x01"
   ]
  },
  {
   "cell_type": "code",
   "execution_count": 4,
   "id": "auburn-elimination",
   "metadata": {},
   "outputs": [],
   "source": [
    "x03 = x01[x01 != -1]"
   ]
  },
  {
   "cell_type": "code",
   "execution_count": 5,
   "id": "composed-prairie",
   "metadata": {},
   "outputs": [
    {
     "data": {
      "text/plain": [
       "array([0, 0, 0, ..., 0, 0, 0], dtype=int16)"
      ]
     },
     "execution_count": 5,
     "metadata": {},
     "output_type": "execute_result"
    }
   ],
   "source": [
    "x03"
   ]
  },
  {
   "cell_type": "code",
   "execution_count": 6,
   "id": "killing-saint",
   "metadata": {},
   "outputs": [
    {
     "data": {
      "text/plain": [
       "10331218"
      ]
     },
     "execution_count": 6,
     "metadata": {},
     "output_type": "execute_result"
    }
   ],
   "source": [
    "len(x03)"
   ]
  },
  {
   "cell_type": "code",
   "execution_count": 7,
   "id": "finnish-summer",
   "metadata": {},
   "outputs": [
    {
     "data": {
      "text/plain": [
       "289506"
      ]
     },
     "execution_count": 7,
     "metadata": {},
     "output_type": "execute_result"
    }
   ],
   "source": [
    "x04 = x01[x01 == 3]\n",
    "x04\n",
    "len(x04)"
   ]
  },
  {
   "cell_type": "code",
   "execution_count": 8,
   "id": "forbidden-comment",
   "metadata": {},
   "outputs": [],
   "source": [
    "f1 = open(\"Linakia_cells.csv\",\"w\")\n",
    "f1.write('i,j,k,sgx,sgy,sgz')\n",
    "f1.write('\\n')\n",
    "for k in range(256):\n",
    "    for j in range(256):\n",
    "        for i in range(256):\n",
    "            #print (i,j,k)\n",
    "            f1.write('%s,%s,%s,%8.2f,%8.2f,%8.2f\\n' % (i, j, k, -158.75+(i*1.25), -158.75+(j*1.25), -158.75+(k*1.25)))\n",
    "f1.close()"
   ]
  },
  {
   "cell_type": "code",
   "execution_count": 9,
   "id": "coral-cruise",
   "metadata": {},
   "outputs": [
    {
     "data": {
      "text/html": [
       "<div>\n",
       "<style scoped>\n",
       "    .dataframe tbody tr th:only-of-type {\n",
       "        vertical-align: middle;\n",
       "    }\n",
       "\n",
       "    .dataframe tbody tr th {\n",
       "        vertical-align: top;\n",
       "    }\n",
       "\n",
       "    .dataframe thead th {\n",
       "        text-align: right;\n",
       "    }\n",
       "</style>\n",
       "<table border=\"1\" class=\"dataframe\">\n",
       "  <thead>\n",
       "    <tr style=\"text-align: right;\">\n",
       "      <th></th>\n",
       "      <th>i</th>\n",
       "      <th>j</th>\n",
       "      <th>k</th>\n",
       "      <th>sgx</th>\n",
       "      <th>sgy</th>\n",
       "      <th>sgz</th>\n",
       "    </tr>\n",
       "  </thead>\n",
       "  <tbody>\n",
       "    <tr>\n",
       "      <th>0</th>\n",
       "      <td>0</td>\n",
       "      <td>0</td>\n",
       "      <td>0</td>\n",
       "      <td>-158.75</td>\n",
       "      <td>-158.75</td>\n",
       "      <td>-158.75</td>\n",
       "    </tr>\n",
       "    <tr>\n",
       "      <th>1</th>\n",
       "      <td>1</td>\n",
       "      <td>0</td>\n",
       "      <td>0</td>\n",
       "      <td>-157.50</td>\n",
       "      <td>-158.75</td>\n",
       "      <td>-158.75</td>\n",
       "    </tr>\n",
       "    <tr>\n",
       "      <th>2</th>\n",
       "      <td>2</td>\n",
       "      <td>0</td>\n",
       "      <td>0</td>\n",
       "      <td>-156.25</td>\n",
       "      <td>-158.75</td>\n",
       "      <td>-158.75</td>\n",
       "    </tr>\n",
       "    <tr>\n",
       "      <th>3</th>\n",
       "      <td>3</td>\n",
       "      <td>0</td>\n",
       "      <td>0</td>\n",
       "      <td>-155.00</td>\n",
       "      <td>-158.75</td>\n",
       "      <td>-158.75</td>\n",
       "    </tr>\n",
       "    <tr>\n",
       "      <th>4</th>\n",
       "      <td>4</td>\n",
       "      <td>0</td>\n",
       "      <td>0</td>\n",
       "      <td>-153.75</td>\n",
       "      <td>-158.75</td>\n",
       "      <td>-158.75</td>\n",
       "    </tr>\n",
       "    <tr>\n",
       "      <th>...</th>\n",
       "      <td>...</td>\n",
       "      <td>...</td>\n",
       "      <td>...</td>\n",
       "      <td>...</td>\n",
       "      <td>...</td>\n",
       "      <td>...</td>\n",
       "    </tr>\n",
       "    <tr>\n",
       "      <th>16777211</th>\n",
       "      <td>251</td>\n",
       "      <td>255</td>\n",
       "      <td>255</td>\n",
       "      <td>155.00</td>\n",
       "      <td>160.00</td>\n",
       "      <td>160.00</td>\n",
       "    </tr>\n",
       "    <tr>\n",
       "      <th>16777212</th>\n",
       "      <td>252</td>\n",
       "      <td>255</td>\n",
       "      <td>255</td>\n",
       "      <td>156.25</td>\n",
       "      <td>160.00</td>\n",
       "      <td>160.00</td>\n",
       "    </tr>\n",
       "    <tr>\n",
       "      <th>16777213</th>\n",
       "      <td>253</td>\n",
       "      <td>255</td>\n",
       "      <td>255</td>\n",
       "      <td>157.50</td>\n",
       "      <td>160.00</td>\n",
       "      <td>160.00</td>\n",
       "    </tr>\n",
       "    <tr>\n",
       "      <th>16777214</th>\n",
       "      <td>254</td>\n",
       "      <td>255</td>\n",
       "      <td>255</td>\n",
       "      <td>158.75</td>\n",
       "      <td>160.00</td>\n",
       "      <td>160.00</td>\n",
       "    </tr>\n",
       "    <tr>\n",
       "      <th>16777215</th>\n",
       "      <td>255</td>\n",
       "      <td>255</td>\n",
       "      <td>255</td>\n",
       "      <td>160.00</td>\n",
       "      <td>160.00</td>\n",
       "      <td>160.00</td>\n",
       "    </tr>\n",
       "  </tbody>\n",
       "</table>\n",
       "<p>16777216 rows × 6 columns</p>\n",
       "</div>"
      ],
      "text/plain": [
       "            i    j    k     sgx     sgy     sgz\n",
       "0           0    0    0 -158.75 -158.75 -158.75\n",
       "1           1    0    0 -157.50 -158.75 -158.75\n",
       "2           2    0    0 -156.25 -158.75 -158.75\n",
       "3           3    0    0 -155.00 -158.75 -158.75\n",
       "4           4    0    0 -153.75 -158.75 -158.75\n",
       "...       ...  ...  ...     ...     ...     ...\n",
       "16777211  251  255  255  155.00  160.00  160.00\n",
       "16777212  252  255  255  156.25  160.00  160.00\n",
       "16777213  253  255  255  157.50  160.00  160.00\n",
       "16777214  254  255  255  158.75  160.00  160.00\n",
       "16777215  255  255  255  160.00  160.00  160.00\n",
       "\n",
       "[16777216 rows x 6 columns]"
      ]
     },
     "execution_count": 9,
     "metadata": {},
     "output_type": "execute_result"
    }
   ],
   "source": [
    "lg = pd.read_csv(\"Linakia_cells.csv\")\n",
    "lg"
   ]
  },
  {
   "cell_type": "code",
   "execution_count": 10,
   "id": "hairy-korea",
   "metadata": {},
   "outputs": [],
   "source": [
    "lga = pd.DataFrame(np.column_stack((lg,x01)),columns=['i','j','k','sgx','sgy','sgz','flag'])"
   ]
  },
  {
   "cell_type": "code",
   "execution_count": 11,
   "id": "bearing-struggle",
   "metadata": {},
   "outputs": [
    {
     "data": {
      "text/plain": [
       "318.75"
      ]
     },
     "execution_count": 11,
     "metadata": {},
     "output_type": "execute_result"
    }
   ],
   "source": [
    "dx = max(lga.sgx)-min(lga.sgx)\n",
    "dx"
   ]
  },
  {
   "cell_type": "code",
   "execution_count": 12,
   "id": "dominican-railway",
   "metadata": {},
   "outputs": [
    {
     "data": {
      "text/html": [
       "<div>\n",
       "<style scoped>\n",
       "    .dataframe tbody tr th:only-of-type {\n",
       "        vertical-align: middle;\n",
       "    }\n",
       "\n",
       "    .dataframe tbody tr th {\n",
       "        vertical-align: top;\n",
       "    }\n",
       "\n",
       "    .dataframe thead th {\n",
       "        text-align: right;\n",
       "    }\n",
       "</style>\n",
       "<table border=\"1\" class=\"dataframe\">\n",
       "  <thead>\n",
       "    <tr style=\"text-align: right;\">\n",
       "      <th></th>\n",
       "      <th>i</th>\n",
       "      <th>j</th>\n",
       "      <th>k</th>\n",
       "      <th>sgx</th>\n",
       "      <th>sgy</th>\n",
       "      <th>sgz</th>\n",
       "      <th>flag</th>\n",
       "    </tr>\n",
       "  </thead>\n",
       "  <tbody>\n",
       "    <tr>\n",
       "      <th>0</th>\n",
       "      <td>0.0</td>\n",
       "      <td>0.0</td>\n",
       "      <td>0.0</td>\n",
       "      <td>-158.75</td>\n",
       "      <td>-158.75</td>\n",
       "      <td>-158.75</td>\n",
       "      <td>-1.0</td>\n",
       "    </tr>\n",
       "    <tr>\n",
       "      <th>1</th>\n",
       "      <td>1.0</td>\n",
       "      <td>0.0</td>\n",
       "      <td>0.0</td>\n",
       "      <td>-157.50</td>\n",
       "      <td>-158.75</td>\n",
       "      <td>-158.75</td>\n",
       "      <td>-1.0</td>\n",
       "    </tr>\n",
       "    <tr>\n",
       "      <th>2</th>\n",
       "      <td>2.0</td>\n",
       "      <td>0.0</td>\n",
       "      <td>0.0</td>\n",
       "      <td>-156.25</td>\n",
       "      <td>-158.75</td>\n",
       "      <td>-158.75</td>\n",
       "      <td>-1.0</td>\n",
       "    </tr>\n",
       "    <tr>\n",
       "      <th>3</th>\n",
       "      <td>3.0</td>\n",
       "      <td>0.0</td>\n",
       "      <td>0.0</td>\n",
       "      <td>-155.00</td>\n",
       "      <td>-158.75</td>\n",
       "      <td>-158.75</td>\n",
       "      <td>-1.0</td>\n",
       "    </tr>\n",
       "    <tr>\n",
       "      <th>4</th>\n",
       "      <td>4.0</td>\n",
       "      <td>0.0</td>\n",
       "      <td>0.0</td>\n",
       "      <td>-153.75</td>\n",
       "      <td>-158.75</td>\n",
       "      <td>-158.75</td>\n",
       "      <td>-1.0</td>\n",
       "    </tr>\n",
       "    <tr>\n",
       "      <th>...</th>\n",
       "      <td>...</td>\n",
       "      <td>...</td>\n",
       "      <td>...</td>\n",
       "      <td>...</td>\n",
       "      <td>...</td>\n",
       "      <td>...</td>\n",
       "      <td>...</td>\n",
       "    </tr>\n",
       "    <tr>\n",
       "      <th>16777211</th>\n",
       "      <td>251.0</td>\n",
       "      <td>255.0</td>\n",
       "      <td>255.0</td>\n",
       "      <td>155.00</td>\n",
       "      <td>160.00</td>\n",
       "      <td>160.00</td>\n",
       "      <td>0.0</td>\n",
       "    </tr>\n",
       "    <tr>\n",
       "      <th>16777212</th>\n",
       "      <td>252.0</td>\n",
       "      <td>255.0</td>\n",
       "      <td>255.0</td>\n",
       "      <td>156.25</td>\n",
       "      <td>160.00</td>\n",
       "      <td>160.00</td>\n",
       "      <td>0.0</td>\n",
       "    </tr>\n",
       "    <tr>\n",
       "      <th>16777213</th>\n",
       "      <td>253.0</td>\n",
       "      <td>255.0</td>\n",
       "      <td>255.0</td>\n",
       "      <td>157.50</td>\n",
       "      <td>160.00</td>\n",
       "      <td>160.00</td>\n",
       "      <td>0.0</td>\n",
       "    </tr>\n",
       "    <tr>\n",
       "      <th>16777214</th>\n",
       "      <td>254.0</td>\n",
       "      <td>255.0</td>\n",
       "      <td>255.0</td>\n",
       "      <td>158.75</td>\n",
       "      <td>160.00</td>\n",
       "      <td>160.00</td>\n",
       "      <td>0.0</td>\n",
       "    </tr>\n",
       "    <tr>\n",
       "      <th>16777215</th>\n",
       "      <td>255.0</td>\n",
       "      <td>255.0</td>\n",
       "      <td>255.0</td>\n",
       "      <td>160.00</td>\n",
       "      <td>160.00</td>\n",
       "      <td>160.00</td>\n",
       "      <td>0.0</td>\n",
       "    </tr>\n",
       "  </tbody>\n",
       "</table>\n",
       "<p>16777216 rows × 7 columns</p>\n",
       "</div>"
      ],
      "text/plain": [
       "              i      j      k     sgx     sgy     sgz  flag\n",
       "0           0.0    0.0    0.0 -158.75 -158.75 -158.75  -1.0\n",
       "1           1.0    0.0    0.0 -157.50 -158.75 -158.75  -1.0\n",
       "2           2.0    0.0    0.0 -156.25 -158.75 -158.75  -1.0\n",
       "3           3.0    0.0    0.0 -155.00 -158.75 -158.75  -1.0\n",
       "4           4.0    0.0    0.0 -153.75 -158.75 -158.75  -1.0\n",
       "...         ...    ...    ...     ...     ...     ...   ...\n",
       "16777211  251.0  255.0  255.0  155.00  160.00  160.00   0.0\n",
       "16777212  252.0  255.0  255.0  156.25  160.00  160.00   0.0\n",
       "16777213  253.0  255.0  255.0  157.50  160.00  160.00   0.0\n",
       "16777214  254.0  255.0  255.0  158.75  160.00  160.00   0.0\n",
       "16777215  255.0  255.0  255.0  160.00  160.00  160.00   0.0\n",
       "\n",
       "[16777216 rows x 7 columns]"
      ]
     },
     "execution_count": 12,
     "metadata": {},
     "output_type": "execute_result"
    }
   ],
   "source": [
    "lga"
   ]
  },
  {
   "cell_type": "code",
   "execution_count": 13,
   "id": "touched-funeral",
   "metadata": {},
   "outputs": [],
   "source": [
    "lga.to_csv('lga.csv',index=False,header=True)"
   ]
  },
  {
   "cell_type": "code",
   "execution_count": 14,
   "id": "suited-beach",
   "metadata": {},
   "outputs": [
    {
     "data": {
      "text/html": [
       "<div>\n",
       "<style scoped>\n",
       "    .dataframe tbody tr th:only-of-type {\n",
       "        vertical-align: middle;\n",
       "    }\n",
       "\n",
       "    .dataframe tbody tr th {\n",
       "        vertical-align: top;\n",
       "    }\n",
       "\n",
       "    .dataframe thead th {\n",
       "        text-align: right;\n",
       "    }\n",
       "</style>\n",
       "<table border=\"1\" class=\"dataframe\">\n",
       "  <thead>\n",
       "    <tr style=\"text-align: right;\">\n",
       "      <th></th>\n",
       "      <th>i</th>\n",
       "      <th>j</th>\n",
       "      <th>k</th>\n",
       "      <th>sgx</th>\n",
       "      <th>sgy</th>\n",
       "      <th>sgz</th>\n",
       "      <th>flag</th>\n",
       "    </tr>\n",
       "  </thead>\n",
       "  <tbody>\n",
       "    <tr>\n",
       "      <th>5210992</th>\n",
       "      <td>112.0</td>\n",
       "      <td>131.0</td>\n",
       "      <td>79.0</td>\n",
       "      <td>-18.75</td>\n",
       "      <td>5.00</td>\n",
       "      <td>-60.0</td>\n",
       "      <td>1.0</td>\n",
       "    </tr>\n",
       "    <tr>\n",
       "      <th>5210993</th>\n",
       "      <td>113.0</td>\n",
       "      <td>131.0</td>\n",
       "      <td>79.0</td>\n",
       "      <td>-17.50</td>\n",
       "      <td>5.00</td>\n",
       "      <td>-60.0</td>\n",
       "      <td>1.0</td>\n",
       "    </tr>\n",
       "    <tr>\n",
       "      <th>5210994</th>\n",
       "      <td>114.0</td>\n",
       "      <td>131.0</td>\n",
       "      <td>79.0</td>\n",
       "      <td>-16.25</td>\n",
       "      <td>5.00</td>\n",
       "      <td>-60.0</td>\n",
       "      <td>1.0</td>\n",
       "    </tr>\n",
       "    <tr>\n",
       "      <th>5210995</th>\n",
       "      <td>115.0</td>\n",
       "      <td>131.0</td>\n",
       "      <td>79.0</td>\n",
       "      <td>-15.00</td>\n",
       "      <td>5.00</td>\n",
       "      <td>-60.0</td>\n",
       "      <td>1.0</td>\n",
       "    </tr>\n",
       "    <tr>\n",
       "      <th>5210996</th>\n",
       "      <td>116.0</td>\n",
       "      <td>131.0</td>\n",
       "      <td>79.0</td>\n",
       "      <td>-13.75</td>\n",
       "      <td>5.00</td>\n",
       "      <td>-60.0</td>\n",
       "      <td>1.0</td>\n",
       "    </tr>\n",
       "    <tr>\n",
       "      <th>...</th>\n",
       "      <td>...</td>\n",
       "      <td>...</td>\n",
       "      <td>...</td>\n",
       "      <td>...</td>\n",
       "      <td>...</td>\n",
       "      <td>...</td>\n",
       "      <td>...</td>\n",
       "    </tr>\n",
       "    <tr>\n",
       "      <th>16209514</th>\n",
       "      <td>106.0</td>\n",
       "      <td>86.0</td>\n",
       "      <td>247.0</td>\n",
       "      <td>-26.25</td>\n",
       "      <td>-51.25</td>\n",
       "      <td>150.0</td>\n",
       "      <td>1.0</td>\n",
       "    </tr>\n",
       "    <tr>\n",
       "      <th>16209515</th>\n",
       "      <td>107.0</td>\n",
       "      <td>86.0</td>\n",
       "      <td>247.0</td>\n",
       "      <td>-25.00</td>\n",
       "      <td>-51.25</td>\n",
       "      <td>150.0</td>\n",
       "      <td>1.0</td>\n",
       "    </tr>\n",
       "    <tr>\n",
       "      <th>16209516</th>\n",
       "      <td>108.0</td>\n",
       "      <td>86.0</td>\n",
       "      <td>247.0</td>\n",
       "      <td>-23.75</td>\n",
       "      <td>-51.25</td>\n",
       "      <td>150.0</td>\n",
       "      <td>1.0</td>\n",
       "    </tr>\n",
       "    <tr>\n",
       "      <th>16209517</th>\n",
       "      <td>109.0</td>\n",
       "      <td>86.0</td>\n",
       "      <td>247.0</td>\n",
       "      <td>-22.50</td>\n",
       "      <td>-51.25</td>\n",
       "      <td>150.0</td>\n",
       "      <td>1.0</td>\n",
       "    </tr>\n",
       "    <tr>\n",
       "      <th>16209518</th>\n",
       "      <td>110.0</td>\n",
       "      <td>86.0</td>\n",
       "      <td>247.0</td>\n",
       "      <td>-21.25</td>\n",
       "      <td>-51.25</td>\n",
       "      <td>150.0</td>\n",
       "      <td>1.0</td>\n",
       "    </tr>\n",
       "  </tbody>\n",
       "</table>\n",
       "<p>1197010 rows × 7 columns</p>\n",
       "</div>"
      ],
      "text/plain": [
       "              i      j      k    sgx    sgy    sgz  flag\n",
       "5210992   112.0  131.0   79.0 -18.75   5.00  -60.0   1.0\n",
       "5210993   113.0  131.0   79.0 -17.50   5.00  -60.0   1.0\n",
       "5210994   114.0  131.0   79.0 -16.25   5.00  -60.0   1.0\n",
       "5210995   115.0  131.0   79.0 -15.00   5.00  -60.0   1.0\n",
       "5210996   116.0  131.0   79.0 -13.75   5.00  -60.0   1.0\n",
       "...         ...    ...    ...    ...    ...    ...   ...\n",
       "16209514  106.0   86.0  247.0 -26.25 -51.25  150.0   1.0\n",
       "16209515  107.0   86.0  247.0 -25.00 -51.25  150.0   1.0\n",
       "16209516  108.0   86.0  247.0 -23.75 -51.25  150.0   1.0\n",
       "16209517  109.0   86.0  247.0 -22.50 -51.25  150.0   1.0\n",
       "16209518  110.0   86.0  247.0 -21.25 -51.25  150.0   1.0\n",
       "\n",
       "[1197010 rows x 7 columns]"
      ]
     },
     "execution_count": 14,
     "metadata": {},
     "output_type": "execute_result"
    }
   ],
   "source": [
    "lga_lania = lga.drop(lga[lga.flag != 1].index)\n",
    "lga_lania"
   ]
  },
  {
   "cell_type": "code",
   "execution_count": 15,
   "id": "interracial-aquarium",
   "metadata": {},
   "outputs": [
    {
     "name": "stdout",
     "output_type": "stream",
     "text": [
      "<SkyCoord (Galactic): (u, v, w) [dimensionless]\n",
      "    [(-26.96631374, -56.97987661,  -1.63526278),\n",
      "     (-27.88599196, -56.13329999,  -1.63526278),\n",
      "     (-28.80567018, -55.28672337,  -1.63526278), ...,\n",
      "     (122.26656261,  97.75653199, -34.42634342),\n",
      "     (121.34688439,  98.60310861, -34.42634342),\n",
      "     (120.42720617,  99.44968523, -34.42634342)]>\n"
     ]
    }
   ],
   "source": [
    "cc = SkyCoord(sgx=lga_lania.sgx, sgy=lga_lania.sgy, sgz=lga_lania.sgz, frame='supergalactic', representation_type='cartesian')\n",
    "xx = cc.transform_to('galactic')\n",
    "xx.representation_type = 'cartesian'\n",
    "print (xx)"
   ]
  },
  {
   "cell_type": "code",
   "execution_count": 16,
   "id": "palestinian-assets",
   "metadata": {},
   "outputs": [],
   "source": [
    "# #just for testing\n",
    "# cc02 = SkyCoord(u=xx.u*u.Mpc, v=xx.v*u.Mpc, w=xx.w*u.Mpc, frame='galactic', representation_type='cartesian')\n",
    "# xxx02 = cc02.transform_to('supergalactic')\n",
    "# xxx02.representation = 'cartesian'\n",
    "# xxx02"
   ]
  },
  {
   "cell_type": "code",
   "execution_count": 17,
   "id": "proper-factory",
   "metadata": {},
   "outputs": [
    {
     "name": "stdout",
     "output_type": "stream",
     "text": [
      "1197010\n",
      "229 204 164\n"
     ]
    }
   ],
   "source": [
    "ii = np.rint(np.round(128. + ((256./400.)*xx.u),0)).astype(int)\n",
    "jj = np.rint(np.round(128. + ((256./400.)*xx.v),0)).astype(int)\n",
    "kk = np.rint(np.round(128. + ((256./400.)*xx.w),0)).astype(int)\n",
    "ii,jj,kk\n",
    "print (len(ii))\n",
    "print (max(ii),max(jj),max(kk))"
   ]
  },
  {
   "cell_type": "code",
   "execution_count": 18,
   "id": "sunset-tsunami",
   "metadata": {},
   "outputs": [
    {
     "name": "stdout",
     "output_type": "stream",
     "text": [
      "-0.05014066050171902\n"
     ]
    }
   ],
   "source": [
    "d = np.load('twompp_density.npy')\n",
    "# ii = [1,2,3]\n",
    "# jj = [1,2,3]\n",
    "# kk = [1,2,3]\n",
    "delta = d[ii,jj,kk]\n",
    "delta\n",
    "print (np.mean(delta))"
   ]
  },
  {
   "cell_type": "code",
   "execution_count": 19,
   "id": "spectacular-collectible",
   "metadata": {},
   "outputs": [
    {
     "data": {
      "text/html": [
       "<div>\n",
       "<style scoped>\n",
       "    .dataframe tbody tr th:only-of-type {\n",
       "        vertical-align: middle;\n",
       "    }\n",
       "\n",
       "    .dataframe tbody tr th {\n",
       "        vertical-align: top;\n",
       "    }\n",
       "\n",
       "    .dataframe thead th {\n",
       "        text-align: right;\n",
       "    }\n",
       "</style>\n",
       "<table border=\"1\" class=\"dataframe\">\n",
       "  <thead>\n",
       "    <tr style=\"text-align: right;\">\n",
       "      <th></th>\n",
       "      <th>sgx</th>\n",
       "      <th>sgy</th>\n",
       "      <th>sgz</th>\n",
       "      <th>delta</th>\n",
       "    </tr>\n",
       "  </thead>\n",
       "  <tbody>\n",
       "    <tr>\n",
       "      <th>0</th>\n",
       "      <td>-18.75</td>\n",
       "      <td>5.00</td>\n",
       "      <td>-60.0</td>\n",
       "      <td>-0.347969</td>\n",
       "    </tr>\n",
       "    <tr>\n",
       "      <th>1</th>\n",
       "      <td>-17.50</td>\n",
       "      <td>5.00</td>\n",
       "      <td>-60.0</td>\n",
       "      <td>-0.334302</td>\n",
       "    </tr>\n",
       "    <tr>\n",
       "      <th>2</th>\n",
       "      <td>-16.25</td>\n",
       "      <td>5.00</td>\n",
       "      <td>-60.0</td>\n",
       "      <td>-0.208867</td>\n",
       "    </tr>\n",
       "    <tr>\n",
       "      <th>3</th>\n",
       "      <td>-15.00</td>\n",
       "      <td>5.00</td>\n",
       "      <td>-60.0</td>\n",
       "      <td>-0.191881</td>\n",
       "    </tr>\n",
       "    <tr>\n",
       "      <th>4</th>\n",
       "      <td>-13.75</td>\n",
       "      <td>5.00</td>\n",
       "      <td>-60.0</td>\n",
       "      <td>-0.126498</td>\n",
       "    </tr>\n",
       "    <tr>\n",
       "      <th>...</th>\n",
       "      <td>...</td>\n",
       "      <td>...</td>\n",
       "      <td>...</td>\n",
       "      <td>...</td>\n",
       "    </tr>\n",
       "    <tr>\n",
       "      <th>1197005</th>\n",
       "      <td>-26.25</td>\n",
       "      <td>-51.25</td>\n",
       "      <td>150.0</td>\n",
       "      <td>0.599204</td>\n",
       "    </tr>\n",
       "    <tr>\n",
       "      <th>1197006</th>\n",
       "      <td>-25.00</td>\n",
       "      <td>-51.25</td>\n",
       "      <td>150.0</td>\n",
       "      <td>1.085904</td>\n",
       "    </tr>\n",
       "    <tr>\n",
       "      <th>1197007</th>\n",
       "      <td>-23.75</td>\n",
       "      <td>-51.25</td>\n",
       "      <td>150.0</td>\n",
       "      <td>0.721287</td>\n",
       "    </tr>\n",
       "    <tr>\n",
       "      <th>1197008</th>\n",
       "      <td>-22.50</td>\n",
       "      <td>-51.25</td>\n",
       "      <td>150.0</td>\n",
       "      <td>0.721287</td>\n",
       "    </tr>\n",
       "    <tr>\n",
       "      <th>1197009</th>\n",
       "      <td>-21.25</td>\n",
       "      <td>-51.25</td>\n",
       "      <td>150.0</td>\n",
       "      <td>0.000000</td>\n",
       "    </tr>\n",
       "  </tbody>\n",
       "</table>\n",
       "<p>1197010 rows × 4 columns</p>\n",
       "</div>"
      ],
      "text/plain": [
       "           sgx    sgy    sgz     delta\n",
       "0       -18.75   5.00  -60.0 -0.347969\n",
       "1       -17.50   5.00  -60.0 -0.334302\n",
       "2       -16.25   5.00  -60.0 -0.208867\n",
       "3       -15.00   5.00  -60.0 -0.191881\n",
       "4       -13.75   5.00  -60.0 -0.126498\n",
       "...        ...    ...    ...       ...\n",
       "1197005 -26.25 -51.25  150.0  0.599204\n",
       "1197006 -25.00 -51.25  150.0  1.085904\n",
       "1197007 -23.75 -51.25  150.0  0.721287\n",
       "1197008 -22.50 -51.25  150.0  0.721287\n",
       "1197009 -21.25 -51.25  150.0  0.000000\n",
       "\n",
       "[1197010 rows x 4 columns]"
      ]
     },
     "execution_count": 19,
     "metadata": {},
     "output_type": "execute_result"
    }
   ],
   "source": [
    "laniakia_density = pd.DataFrame(np.column_stack((lga_lania.sgx,lga_lania.sgy,lga_lania.sgz,delta)),columns=['sgx','sgy','sgz','delta'])\n",
    "laniakia_density"
   ]
  },
  {
   "cell_type": "code",
   "execution_count": 20,
   "id": "external-shirt",
   "metadata": {},
   "outputs": [],
   "source": [
    "laniakia_density.to_csv('laniakia_density.csv',index=False,header=True)"
   ]
  },
  {
   "cell_type": "code",
   "execution_count": 21,
   "id": "hourly-refund",
   "metadata": {},
   "outputs": [
    {
     "name": "stdout",
     "output_type": "stream",
     "text": [
      "86.25 85.0 105.0 160.27807866330318\n"
     ]
    }
   ],
   "source": [
    "x = (max(lga_lania.sgx) - min(lga_lania.sgx))/2.\n",
    "y = (max(lga_lania.sgy) - min(lga_lania.sgy))/2.\n",
    "z = (max(lga_lania.sgz) - min(lga_lania.sgz))/2.\n",
    "dist = np.sqrt(x**2. + y**2. + z**2.)\n",
    "print (x,y,z,dist)"
   ]
  },
  {
   "cell_type": "code",
   "execution_count": null,
   "id": "incoming-willow",
   "metadata": {},
   "outputs": [],
   "source": []
  }
 ],
 "metadata": {
  "kernelspec": {
   "display_name": "Python 3",
   "language": "python",
   "name": "python3"
  },
  "language_info": {
   "codemirror_mode": {
    "name": "ipython",
    "version": 3
   },
   "file_extension": ".py",
   "mimetype": "text/x-python",
   "name": "python",
   "nbconvert_exporter": "python",
   "pygments_lexer": "ipython3",
   "version": "3.8.3"
  }
 },
 "nbformat": 4,
 "nbformat_minor": 5
}
