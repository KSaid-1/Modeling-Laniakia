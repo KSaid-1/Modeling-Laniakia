{
 "cells": [
  {
   "cell_type": "code",
   "execution_count": 1,
   "id": "destroyed-amino",
   "metadata": {},
   "outputs": [],
   "source": [
    "import pandas as pd\n",
    "import numpy as np\n",
    "import matplotlib.pyplot as plt\n",
    "from mpl_toolkits.mplot3d import Axes3D\n",
    "from matplotlib.patches import FancyArrowPatch\n",
    "%matplotlib notebook\n",
    "from scipy.interpolate import griddata\n",
    "from astropy.io import fits\n",
    "import numpy as np\n",
    "from scipy.spatial import cKDTree\n",
    "from scipy.ndimage.filters import gaussian_filter"
   ]
  },
  {
   "cell_type": "code",
   "execution_count": 2,
   "id": "drawn-malaysia",
   "metadata": {},
   "outputs": [],
   "source": [
    "hdu_d = fits.open('CF4gp_new_64-z008_delta.fits')"
   ]
  },
  {
   "cell_type": "code",
   "execution_count": 3,
   "id": "surprised-austria",
   "metadata": {},
   "outputs": [
    {
     "data": {
      "text/plain": [
       "(64, 64, 64)"
      ]
     },
     "execution_count": 3,
     "metadata": {},
     "output_type": "execute_result"
    }
   ],
   "source": [
    "t_d = hdu_d[0].data\n",
    "np.shape(t_d)"
   ]
  },
  {
   "cell_type": "code",
   "execution_count": 4,
   "id": "specific-iraqi",
   "metadata": {},
   "outputs": [
    {
     "data": {
      "text/plain": [
       "0.03911024"
      ]
     },
     "execution_count": 4,
     "metadata": {},
     "output_type": "execute_result"
    }
   ],
   "source": [
    "t_d[63,10,10]"
   ]
  },
  {
   "cell_type": "code",
   "execution_count": 5,
   "id": "cardiac-climb",
   "metadata": {},
   "outputs": [
    {
     "data": {
      "text/html": [
       "<div>\n",
       "<style scoped>\n",
       "    .dataframe tbody tr th:only-of-type {\n",
       "        vertical-align: middle;\n",
       "    }\n",
       "\n",
       "    .dataframe tbody tr th {\n",
       "        vertical-align: top;\n",
       "    }\n",
       "\n",
       "    .dataframe thead th {\n",
       "        text-align: right;\n",
       "    }\n",
       "</style>\n",
       "<table border=\"1\" class=\"dataframe\">\n",
       "  <thead>\n",
       "    <tr style=\"text-align: right;\">\n",
       "      <th></th>\n",
       "      <th>sgx</th>\n",
       "      <th>sgy</th>\n",
       "      <th>sgz</th>\n",
       "      <th>delta</th>\n",
       "    </tr>\n",
       "  </thead>\n",
       "  <tbody>\n",
       "    <tr>\n",
       "      <th>0</th>\n",
       "      <td>-18.75</td>\n",
       "      <td>5.00</td>\n",
       "      <td>-60.0</td>\n",
       "      <td>-0.347969</td>\n",
       "    </tr>\n",
       "    <tr>\n",
       "      <th>1</th>\n",
       "      <td>-17.50</td>\n",
       "      <td>5.00</td>\n",
       "      <td>-60.0</td>\n",
       "      <td>-0.334302</td>\n",
       "    </tr>\n",
       "    <tr>\n",
       "      <th>2</th>\n",
       "      <td>-16.25</td>\n",
       "      <td>5.00</td>\n",
       "      <td>-60.0</td>\n",
       "      <td>-0.208867</td>\n",
       "    </tr>\n",
       "    <tr>\n",
       "      <th>3</th>\n",
       "      <td>-15.00</td>\n",
       "      <td>5.00</td>\n",
       "      <td>-60.0</td>\n",
       "      <td>-0.191881</td>\n",
       "    </tr>\n",
       "    <tr>\n",
       "      <th>4</th>\n",
       "      <td>-13.75</td>\n",
       "      <td>5.00</td>\n",
       "      <td>-60.0</td>\n",
       "      <td>-0.126498</td>\n",
       "    </tr>\n",
       "    <tr>\n",
       "      <th>...</th>\n",
       "      <td>...</td>\n",
       "      <td>...</td>\n",
       "      <td>...</td>\n",
       "      <td>...</td>\n",
       "    </tr>\n",
       "    <tr>\n",
       "      <th>1197005</th>\n",
       "      <td>-26.25</td>\n",
       "      <td>-51.25</td>\n",
       "      <td>150.0</td>\n",
       "      <td>0.599204</td>\n",
       "    </tr>\n",
       "    <tr>\n",
       "      <th>1197006</th>\n",
       "      <td>-25.00</td>\n",
       "      <td>-51.25</td>\n",
       "      <td>150.0</td>\n",
       "      <td>1.085904</td>\n",
       "    </tr>\n",
       "    <tr>\n",
       "      <th>1197007</th>\n",
       "      <td>-23.75</td>\n",
       "      <td>-51.25</td>\n",
       "      <td>150.0</td>\n",
       "      <td>0.721287</td>\n",
       "    </tr>\n",
       "    <tr>\n",
       "      <th>1197008</th>\n",
       "      <td>-22.50</td>\n",
       "      <td>-51.25</td>\n",
       "      <td>150.0</td>\n",
       "      <td>0.721287</td>\n",
       "    </tr>\n",
       "    <tr>\n",
       "      <th>1197009</th>\n",
       "      <td>-21.25</td>\n",
       "      <td>-51.25</td>\n",
       "      <td>150.0</td>\n",
       "      <td>0.000000</td>\n",
       "    </tr>\n",
       "  </tbody>\n",
       "</table>\n",
       "<p>1197010 rows × 4 columns</p>\n",
       "</div>"
      ],
      "text/plain": [
       "           sgx    sgy    sgz     delta\n",
       "0       -18.75   5.00  -60.0 -0.347969\n",
       "1       -17.50   5.00  -60.0 -0.334302\n",
       "2       -16.25   5.00  -60.0 -0.208867\n",
       "3       -15.00   5.00  -60.0 -0.191881\n",
       "4       -13.75   5.00  -60.0 -0.126498\n",
       "...        ...    ...    ...       ...\n",
       "1197005 -26.25 -51.25  150.0  0.599204\n",
       "1197006 -25.00 -51.25  150.0  1.085904\n",
       "1197007 -23.75 -51.25  150.0  0.721287\n",
       "1197008 -22.50 -51.25  150.0  0.721287\n",
       "1197009 -21.25 -51.25  150.0  0.000000\n",
       "\n",
       "[1197010 rows x 4 columns]"
      ]
     },
     "execution_count": 5,
     "metadata": {},
     "output_type": "execute_result"
    }
   ],
   "source": [
    "lania_in = pd.read_csv(\"laniakia_density.csv\")\n",
    "lania_in"
   ]
  },
  {
   "cell_type": "code",
   "execution_count": 6,
   "id": "interesting-pacific",
   "metadata": {},
   "outputs": [],
   "source": [
    "ii_in = np.rint(np.round(32. + ((64./1000.)*lania_in[\"sgx\"]),0)).astype(int)\n",
    "jj_in = np.rint(np.round(32. + ((64./1000.)*lania_in[\"sgy\"]),0)).astype(int)\n",
    "kk_in = np.rint(np.round(32. + ((64./1000.)*lania_in[\"sgz\"]),0)).astype(int)\n",
    "delta = t_d[kk_in,jj_in,ii_in]"
   ]
  },
  {
   "cell_type": "code",
   "execution_count": 7,
   "id": "powerful-herald",
   "metadata": {},
   "outputs": [
    {
     "data": {
      "text/plain": [
       "(0.0042303265, 1197010)"
      ]
     },
     "execution_count": 7,
     "metadata": {},
     "output_type": "execute_result"
    }
   ],
   "source": [
    "np.mean(delta),len(delta)"
   ]
  },
  {
   "cell_type": "code",
   "execution_count": 8,
   "id": "structured-hello",
   "metadata": {},
   "outputs": [
    {
     "data": {
      "text/html": [
       "<div>\n",
       "<style scoped>\n",
       "    .dataframe tbody tr th:only-of-type {\n",
       "        vertical-align: middle;\n",
       "    }\n",
       "\n",
       "    .dataframe tbody tr th {\n",
       "        vertical-align: top;\n",
       "    }\n",
       "\n",
       "    .dataframe thead th {\n",
       "        text-align: right;\n",
       "    }\n",
       "</style>\n",
       "<table border=\"1\" class=\"dataframe\">\n",
       "  <thead>\n",
       "    <tr style=\"text-align: right;\">\n",
       "      <th></th>\n",
       "      <th>sgx</th>\n",
       "      <th>sgy</th>\n",
       "      <th>sgz</th>\n",
       "      <th>delta_2M++</th>\n",
       "      <th>delta_cf4</th>\n",
       "    </tr>\n",
       "  </thead>\n",
       "  <tbody>\n",
       "    <tr>\n",
       "      <th>0</th>\n",
       "      <td>-18.75</td>\n",
       "      <td>5.00</td>\n",
       "      <td>-60.0</td>\n",
       "      <td>-0.347969</td>\n",
       "      <td>-0.108268</td>\n",
       "    </tr>\n",
       "    <tr>\n",
       "      <th>1</th>\n",
       "      <td>-17.50</td>\n",
       "      <td>5.00</td>\n",
       "      <td>-60.0</td>\n",
       "      <td>-0.334302</td>\n",
       "      <td>-0.108268</td>\n",
       "    </tr>\n",
       "    <tr>\n",
       "      <th>2</th>\n",
       "      <td>-16.25</td>\n",
       "      <td>5.00</td>\n",
       "      <td>-60.0</td>\n",
       "      <td>-0.208867</td>\n",
       "      <td>-0.108268</td>\n",
       "    </tr>\n",
       "    <tr>\n",
       "      <th>3</th>\n",
       "      <td>-15.00</td>\n",
       "      <td>5.00</td>\n",
       "      <td>-60.0</td>\n",
       "      <td>-0.191881</td>\n",
       "      <td>-0.108268</td>\n",
       "    </tr>\n",
       "    <tr>\n",
       "      <th>4</th>\n",
       "      <td>-13.75</td>\n",
       "      <td>5.00</td>\n",
       "      <td>-60.0</td>\n",
       "      <td>-0.126498</td>\n",
       "      <td>-0.108268</td>\n",
       "    </tr>\n",
       "    <tr>\n",
       "      <th>...</th>\n",
       "      <td>...</td>\n",
       "      <td>...</td>\n",
       "      <td>...</td>\n",
       "      <td>...</td>\n",
       "      <td>...</td>\n",
       "    </tr>\n",
       "    <tr>\n",
       "      <th>1197005</th>\n",
       "      <td>-26.25</td>\n",
       "      <td>-51.25</td>\n",
       "      <td>150.0</td>\n",
       "      <td>0.599204</td>\n",
       "      <td>0.066333</td>\n",
       "    </tr>\n",
       "    <tr>\n",
       "      <th>1197006</th>\n",
       "      <td>-25.00</td>\n",
       "      <td>-51.25</td>\n",
       "      <td>150.0</td>\n",
       "      <td>1.085904</td>\n",
       "      <td>0.066333</td>\n",
       "    </tr>\n",
       "    <tr>\n",
       "      <th>1197007</th>\n",
       "      <td>-23.75</td>\n",
       "      <td>-51.25</td>\n",
       "      <td>150.0</td>\n",
       "      <td>0.721287</td>\n",
       "      <td>0.066333</td>\n",
       "    </tr>\n",
       "    <tr>\n",
       "      <th>1197008</th>\n",
       "      <td>-22.50</td>\n",
       "      <td>-51.25</td>\n",
       "      <td>150.0</td>\n",
       "      <td>0.721287</td>\n",
       "      <td>0.065386</td>\n",
       "    </tr>\n",
       "    <tr>\n",
       "      <th>1197009</th>\n",
       "      <td>-21.25</td>\n",
       "      <td>-51.25</td>\n",
       "      <td>150.0</td>\n",
       "      <td>0.000000</td>\n",
       "      <td>0.065386</td>\n",
       "    </tr>\n",
       "  </tbody>\n",
       "</table>\n",
       "<p>1197010 rows × 5 columns</p>\n",
       "</div>"
      ],
      "text/plain": [
       "           sgx    sgy    sgz  delta_2M++  delta_cf4\n",
       "0       -18.75   5.00  -60.0   -0.347969  -0.108268\n",
       "1       -17.50   5.00  -60.0   -0.334302  -0.108268\n",
       "2       -16.25   5.00  -60.0   -0.208867  -0.108268\n",
       "3       -15.00   5.00  -60.0   -0.191881  -0.108268\n",
       "4       -13.75   5.00  -60.0   -0.126498  -0.108268\n",
       "...        ...    ...    ...         ...        ...\n",
       "1197005 -26.25 -51.25  150.0    0.599204   0.066333\n",
       "1197006 -25.00 -51.25  150.0    1.085904   0.066333\n",
       "1197007 -23.75 -51.25  150.0    0.721287   0.066333\n",
       "1197008 -22.50 -51.25  150.0    0.721287   0.065386\n",
       "1197009 -21.25 -51.25  150.0    0.000000   0.065386\n",
       "\n",
       "[1197010 rows x 5 columns]"
      ]
     },
     "execution_count": 8,
     "metadata": {},
     "output_type": "execute_result"
    }
   ],
   "source": [
    "laniakia_density = pd.DataFrame(np.column_stack((lania_in.sgx,lania_in.sgy,lania_in.sgz,lania_in.delta,delta)),columns=['sgx','sgy','sgz','delta_2M++','delta_cf4'])\n",
    "laniakia_density"
   ]
  },
  {
   "cell_type": "code",
   "execution_count": 9,
   "id": "british-retailer",
   "metadata": {},
   "outputs": [],
   "source": [
    "laniakia_density.to_csv('laniakia_density_2mpp_cf4.csv',index=False,header=True)"
   ]
  },
  {
   "cell_type": "code",
   "execution_count": 10,
   "id": "introductory-acceptance",
   "metadata": {},
   "outputs": [],
   "source": [
    "# Extract the coordinates and density fluctuation column as separate arrays\n",
    "x = laniakia_density[\"sgx\"]\n",
    "y = laniakia_density[\"sgy\"]\n",
    "z = laniakia_density[\"sgz\"]\n",
    "density = delta\n",
    "\n",
    "# Define the grid points to interpolate onto\n",
    "xi, yi, zi = np.meshgrid(np.linspace(x.min(), x.max(), 256),\n",
    "                         np.linspace(y.min(), y.max(), 256),\n",
    "                         np.linspace(z.min(), z.max(), 256),\n",
    "                         indexing='ij')"
   ]
  },
  {
   "cell_type": "code",
   "execution_count": 11,
   "id": "latter-violin",
   "metadata": {},
   "outputs": [],
   "source": [
    "# Create a cKDTree object to search for the nearest neighbors\n",
    "tree = cKDTree(np.column_stack((x, y, z)))"
   ]
  },
  {
   "cell_type": "code",
   "execution_count": 12,
   "id": "extensive-bolivia",
   "metadata": {},
   "outputs": [],
   "source": [
    "# Interpolate the density values onto the regular grid\n",
    "distances, indices = tree.query(np.column_stack((xi.flatten(), yi.flatten(), zi.flatten())))\n",
    "grid = np.reshape(density[indices], xi.shape)"
   ]
  },
  {
   "cell_type": "code",
   "execution_count": 15,
   "id": "large-commodity",
   "metadata": {},
   "outputs": [],
   "source": [
    "np.save(\"reg_grid\", grid)"
   ]
  },
  {
   "cell_type": "code",
   "execution_count": 13,
   "id": "complete-brazil",
   "metadata": {},
   "outputs": [
    {
     "name": "stdout",
     "output_type": "stream",
     "text": [
      "Radius = 15.0 Mpc, RMS fluctuations = 0.2207\n",
      "Radius = 30.0 Mpc, RMS fluctuations = 0.2677\n",
      "Radius = 45.0 Mpc, RMS fluctuations = 0.2397\n",
      "Radius = 60.0 Mpc, RMS fluctuations = 0.2153\n",
      "Radius = 75.0 Mpc, RMS fluctuations = 0.1910\n",
      "Radius = 90.0 Mpc, RMS fluctuations = 0.1738\n",
      "Radius = 105.0 Mpc, RMS fluctuations = 0.1600\n",
      "Radius = 120.0 Mpc, RMS fluctuations = 0.1453\n",
      "Radius = 135.0 Mpc, RMS fluctuations = 0.1266\n",
      "Radius = 150.0 Mpc, RMS fluctuations = 0.1081\n",
      "Radius = 165.0 Mpc, RMS fluctuations = 0.0920\n",
      "Radius = 180.0 Mpc, RMS fluctuations = 0.0785\n",
      "Radius = 195.0 Mpc, RMS fluctuations = 0.0675\n"
     ]
    }
   ],
   "source": [
    "# Define the radii to use for the spherical volumes\n",
    "radii = np.arange(15., 200., 15)\n",
    "\n",
    "r01=[];rms01=[]\n",
    "# Calculate the variance of the smoothed field within each spherical volume\n",
    "for r in radii:\n",
    "    # Calculate the smoothing kernel size for this radius\n",
    "    sigma = r / 2.35482  # Convert FWHM to sigma\n",
    "    kernel_size = int(4 * sigma) + 1\n",
    "    \n",
    "    # Smooth the density field with a Gaussian filter\n",
    "    smoothed = gaussian_filter(grid, sigma=sigma)\n",
    "    \n",
    "    # Calculate the variance within a spherical volume of radius r\n",
    "    mask = np.sqrt(xi**2 + yi**2 + zi**2) <= r\n",
    "    variance = np.var(smoothed[mask])\n",
    "    \n",
    "    # Print the result\n",
    "    r01.append(r);rms01.append(np.sqrt(variance))\n",
    "    print(f\"Radius = {r:.1f} Mpc, RMS fluctuations = {np.sqrt(variance):.4f}\")"
   ]
  },
  {
   "cell_type": "code",
   "execution_count": null,
   "id": "objective-divide",
   "metadata": {},
   "outputs": [],
   "source": [
    "import numpy as np\n",
    "from scipy.ndimage import convolve\n",
    "\n",
    "# Define the grid\n",
    "size = 256\n",
    "#grid = np.random.normal(size=(size, size, size))\n",
    "\n",
    "# Define the radii to use for the spherical volumes\n",
    "radii = np.arange(15., 200., 15)\n",
    "\n",
    "rms_fluctuations = []\n",
    "# Calculate the variance of the smoothed field within each spherical volume\n",
    "for r in radii:\n",
    "    # Define the coordinate arrays\n",
    "    xi, yi, zi = np.indices((size, size, size)) - size // 2\n",
    "    \n",
    "    # Calculate the smoothing kernel size for this radius\n",
    "    kernel_size = int(4 * r / 2.35482) + 1\n",
    "    \n",
    "    # Smooth the density field with a spherical tophat filter\n",
    "    dist = np.sqrt(xi**2 + yi**2 + zi**2)\n",
    "    smoothed = convolve(grid, (dist <= r).astype(float), mode='constant')\n",
    "    smoothed /= (4 * np.pi / 3) * r**3  # Normalize by the volume\n",
    "    \n",
    "    # Calculate the variance within a spherical volume of radius r\n",
    "    mask = dist <= r\n",
    "    variance = np.var(smoothed[mask])\n",
    "    \n",
    "    # Print the result\n",
    "    rms_fluctuations.append(np.sqrt(variance))\n",
    "    print(f\"Radius = {r:.1f} Mpc, RMS fluctuations = {np.sqrt(variance):.4f}\")"
   ]
  },
  {
   "cell_type": "code",
   "execution_count": null,
   "id": "monetary-niger",
   "metadata": {},
   "outputs": [],
   "source": [
    "scale01 = np.array(r01) / 2.35482"
   ]
  },
  {
   "cell_type": "code",
   "execution_count": null,
   "id": "supported-tradition",
   "metadata": {},
   "outputs": [],
   "source": [
    "plt.scatter(np.array(r01) / 2.35482,rms01,color='black')\n",
    "plt.grid(b=True, which='both', color='0.65',linestyle=':')\n",
    "plt.tight_layout()\n",
    "plt.show()"
   ]
  },
  {
   "cell_type": "code",
   "execution_count": null,
   "id": "respective-reader",
   "metadata": {},
   "outputs": [],
   "source": [
    "def downsample(mygrid):\n",
    "    \"\"\"\n",
    "    Downsample a 3D regular grid of density to half the resolution.\n",
    "\n",
    "    Parameters:\n",
    "    -----------\n",
    "    grid : ndarray, shape (nx, ny, nz)\n",
    "        The input grid of density.\n",
    "\n",
    "    Returns:\n",
    "    --------\n",
    "    new_grid : ndarray, shape (nx/2, ny/2, nz/2)\n",
    "        The downsampled grid of density.\n",
    "    \"\"\"\n",
    "\n",
    "    # Get the size of the input grid\n",
    "    nx, ny, nz = mygrid.shape\n",
    "\n",
    "    # Create a new grid with half the size\n",
    "    new_grid = np.zeros((nx//2, ny//2, nz//2))\n",
    "\n",
    "    # Loop over every other cell in each dimension\n",
    "    for i in range(0, nx, 2):\n",
    "        for j in range(0, ny, 2):\n",
    "            for k in range(0, nz, 2):\n",
    "                # Add the neighbouring cells and take the average density\n",
    "                new_grid[i//2, j//2, k//2] = np.mean(mygrid[i:i+2, j:j+2, k:k+2])\n",
    "\n",
    "    return new_grid"
   ]
  },
  {
   "cell_type": "code",
   "execution_count": null,
   "id": "constitutional-twelve",
   "metadata": {},
   "outputs": [],
   "source": [
    "grids = [grid]\n",
    "for i in range(10):\n",
    "    print (i,np.std(grids[-1]))\n",
    "    grids.append(downsample(grids[-1]))"
   ]
  },
  {
   "cell_type": "code",
   "execution_count": null,
   "id": "binary-array",
   "metadata": {},
   "outputs": [],
   "source": [
    "np.std(grid)"
   ]
  },
  {
   "cell_type": "code",
   "execution_count": null,
   "id": "intended-fiction",
   "metadata": {},
   "outputs": [],
   "source": [
    "grid2 = downsample(grid)"
   ]
  },
  {
   "cell_type": "code",
   "execution_count": null,
   "id": "informed-carolina",
   "metadata": {},
   "outputs": [],
   "source": [
    "np.std(grid2)"
   ]
  },
  {
   "cell_type": "code",
   "execution_count": null,
   "id": "stuck-wings",
   "metadata": {},
   "outputs": [],
   "source": [
    "grid3 = downsample(grid2)"
   ]
  },
  {
   "cell_type": "code",
   "execution_count": null,
   "id": "floral-consent",
   "metadata": {},
   "outputs": [],
   "source": [
    "np.std(grid3)"
   ]
  },
  {
   "cell_type": "code",
   "execution_count": null,
   "id": "western-engineer",
   "metadata": {},
   "outputs": [],
   "source": [
    "np.shape(grid)"
   ]
  },
  {
   "cell_type": "code",
   "execution_count": null,
   "id": "extraordinary-contractor",
   "metadata": {},
   "outputs": [],
   "source": [
    "np.shape(grid2)"
   ]
  },
  {
   "cell_type": "code",
   "execution_count": null,
   "id": "diagnostic-difference",
   "metadata": {},
   "outputs": [],
   "source": [
    "np.shape(grid3)"
   ]
  },
  {
   "cell_type": "code",
   "execution_count": null,
   "id": "separate-portsmouth",
   "metadata": {},
   "outputs": [],
   "source": [
    "grid4 = downsample(grid3)"
   ]
  },
  {
   "cell_type": "code",
   "execution_count": null,
   "id": "daily-corner",
   "metadata": {},
   "outputs": [],
   "source": [
    "np.std(grid4)"
   ]
  },
  {
   "cell_type": "code",
   "execution_count": null,
   "id": "wicked-musical",
   "metadata": {},
   "outputs": [],
   "source": [
    "np.shape(grid4)"
   ]
  },
  {
   "cell_type": "code",
   "execution_count": null,
   "id": "treated-marketplace",
   "metadata": {},
   "outputs": [],
   "source": []
  }
 ],
 "metadata": {
  "kernelspec": {
   "display_name": "Python 3",
   "language": "python",
   "name": "python3"
  },
  "language_info": {
   "codemirror_mode": {
    "name": "ipython",
    "version": 3
   },
   "file_extension": ".py",
   "mimetype": "text/x-python",
   "name": "python",
   "nbconvert_exporter": "python",
   "pygments_lexer": "ipython3",
   "version": "3.8.3"
  }
 },
 "nbformat": 4,
 "nbformat_minor": 5
}
